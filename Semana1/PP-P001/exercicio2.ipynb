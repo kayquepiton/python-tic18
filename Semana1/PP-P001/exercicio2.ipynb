{
 "cells": [
  {
   "cell_type": "markdown",
   "metadata": {},
   "source": [
    "Em Python, o tipo de dado que representa um subconjunto dos números inteiros é chamado de int. Os operadores aritméticos e aritméticos compostos, como +, -, *, /, //, %, **, +=, -=, *=, /=, funcionam de maneira similar ao C/C++, mas apresentam algumas diferenças notáveis.\n",
    "\n",
    "Principais diferenças:\n",
    "\n",
    "Flexibilidade de Tamanho em Python:\n",
    "\n",
    "Inteiros em Python não têm um limite fixo de tamanho, podendo crescer até a memória disponível. Em C/C++, o tamanho do inteiro é geralmente fixo (32 ou 64 bits).\n",
    "Operador de Divisão:\n",
    "\n",
    "Em Python, o operador de divisão (/) sempre retorna um número de ponto flutuante, independentemente da exatidão da divisão. Em C/C++, o resultado da divisão depende dos tipos envolvidos.\n",
    "Operador de Exponenciação:\n",
    "\n",
    "Python usa o operador ** para exponenciação, enquanto em C/C++ a exponenciação é realizada com a função pow() ou a biblioteca math.h.\n",
    "Operadores Aritméticos Compostos:\n",
    "\n",
    "Python suporta operadores aritméticos compostos (+=, -=, *=, /=), proporcionando uma sintaxe mais concisa e melhorando a legibilidade do código.\n",
    "Essas diferenças destacam a flexibilidade e expressividade de Python em comparação com C/C++, tornando-o mais intuitivo para diversas operações.\n",
    "\n",
    "Exemplo de utilização:"
   ]
  },
  {
   "cell_type": "code",
   "execution_count": 25,
   "metadata": {},
   "outputs": [
    {
     "name": "stdout",
     "output_type": "stream",
     "text": [
      "Soma: 7\n",
      "Subtração: 3\n",
      "Multiplicação: 10\n",
      "Divisão: 2.5\n",
      "Resto: 1\n",
      "Exponenciação: 25\n",
      "Novo valor de 'a' após a operação a += 1: 6\n",
      "Novo valor de 'b' após a operação b *= 3: 6\n"
     ]
    }
   ],
   "source": [
    "a = 5\n",
    "b = 2\n",
    "\n",
    "soma = a + b\n",
    "subtracao = a - b\n",
    "multiplicacao = a * b\n",
    "divisao = a / b\n",
    "resto = a % b\n",
    "exponenciacao = a ** b\n",
    "\n",
    "print(f\"Soma: {soma}\")\n",
    "print(f\"Subtração: {subtracao}\")\n",
    "print(f\"Multiplicação: {multiplicacao}\")\n",
    "print(f\"Divisão: {divisao}\")\n",
    "print(f\"Resto: {resto}\")\n",
    "print(f\"Exponenciação: {exponenciacao}\")\n",
    "\n",
    "a += 1\n",
    "b *= 3\n",
    "\n",
    "print(f\"Novo valor de 'a' após a operação a += 1: {a}\")\n",
    "print(f\"Novo valor de 'b' após a operação b *= 3: {b}\")\n"
   ]
  },
  {
   "cell_type": "markdown",
   "metadata": {},
   "source": [
    "Demonstrando a capacidade de lidar com números inteiros de magnitude considerável em Python, podemos calcular o fatorial de 30 como exemplo. Em contraste, vamos comparar esse resultado com o maior valor inteiro que pode ser representado em C/C++, onde os inteiros são limitados por um tamanho fixo, geralmente 32 ou 64 bits"
   ]
  },
  {
   "cell_type": "code",
   "execution_count": 26,
   "metadata": {},
   "outputs": [
    {
     "name": "stdout",
     "output_type": "stream",
     "text": [
      "Fatorial de 30 em Python: 265252859812191058636308480000000\n",
      "Maior valor inteiro em C/C++: 2147483647\n"
     ]
    }
   ],
   "source": [
    "import math\n",
    "\n",
    "# Calcular o fatorial de 30 em Python\n",
    "fatorial_30 = math.factorial(30)\n",
    "\n",
    "# Maior valor inteiro representável em C/C++\n",
    "maior_valor_em_C = 2 ** 31 - 1  # ou 2 ** 63 - 1 para sistemas de 64 bits\n",
    "\n",
    "print(f\"Fatorial de 30 em Python: {fatorial_30}\")\n",
    "print(f\"Maior valor inteiro em C/C++: {maior_valor_em_C}\")\n"
   ]
  },
  {
   "cell_type": "markdown",
   "metadata": {},
   "source": [
    "Ilustrando as implicações da afirmação de que as variáveis numéricas são imutáveis em Python, podemos observar como as operações aritméticas não modificam diretamente a variável existente, mas criam novas variáveis para armazenar os resultados."
   ]
  },
  {
   "cell_type": "code",
   "execution_count": 27,
   "metadata": {},
   "outputs": [
    {
     "name": "stdout",
     "output_type": "stream",
     "text": [
      "Valor inicial de 'x': 10\n",
      "Resultado da operação 'x + 5': 15\n"
     ]
    }
   ],
   "source": [
    "# Exemplo de imutabilidade de variáveis numéricas em Python\n",
    "x = 10\n",
    "y = x + 5\n",
    "\n",
    "print(f\"Valor inicial de 'x': {x}\")\n",
    "print(f\"Resultado da operação 'x + 5': {y}\")\n"
   ]
  },
  {
   "cell_type": "markdown",
   "metadata": {},
   "source": [
    "Neste exemplo, a variável x permanece inalterada após a operação x + 5. Em vez de modificar x, uma nova variável y é criada para armazenar o resultado da operação. Isso exemplifica a imutabilidade, onde as variáveis numéricas em Python preservam seu valor original, facilitando o rastreamento de estados e evitando efeitos colaterais inesperados em operações aritméticas."
   ]
  },
  {
   "cell_type": "markdown",
   "metadata": {},
   "source": [
    "Método disponíveis para variaveis inteiras:"
   ]
  },
  {
   "cell_type": "code",
   "execution_count": 28,
   "metadata": {},
   "outputs": [
    {
     "name": "stdout",
     "output_type": "stream",
     "text": [
      "['__abs__', '__add__', '__and__', '__bool__', '__ceil__', '__class__', '__delattr__', '__dir__', '__divmod__', '__doc__', '__eq__', '__float__', '__floor__', '__floordiv__', '__format__', '__ge__', '__getattribute__', '__getnewargs__', '__getstate__', '__gt__', '__hash__', '__index__', '__init__', '__init_subclass__', '__int__', '__invert__', '__le__', '__lshift__', '__lt__', '__mod__', '__mul__', '__ne__', '__neg__', '__new__', '__or__', '__pos__', '__pow__', '__radd__', '__rand__', '__rdivmod__', '__reduce__', '__reduce_ex__', '__repr__', '__rfloordiv__', '__rlshift__', '__rmod__', '__rmul__', '__ror__', '__round__', '__rpow__', '__rrshift__', '__rshift__', '__rsub__', '__rtruediv__', '__rxor__', '__setattr__', '__sizeof__', '__str__', '__sub__', '__subclasshook__', '__truediv__', '__trunc__', '__xor__', 'as_integer_ratio', 'bit_count', 'bit_length', 'conjugate', 'denominator', 'from_bytes', 'imag', 'is_integer', 'numerator', 'real', 'to_bytes']\n"
     ]
    }
   ],
   "source": [
    "num = 42\n",
    "metodos_inteiro = dir(num)\n",
    "print(metodos_inteiro)\n"
   ]
  }
 ],
 "metadata": {
  "kernelspec": {
   "display_name": "Python 3",
   "language": "python",
   "name": "python3"
  },
  "language_info": {
   "codemirror_mode": {
    "name": "ipython",
    "version": 3
   },
   "file_extension": ".py",
   "mimetype": "text/x-python",
   "name": "python",
   "nbconvert_exporter": "python",
   "pygments_lexer": "ipython3",
   "version": "3.12.0"
  }
 },
 "nbformat": 4,
 "nbformat_minor": 2
}
