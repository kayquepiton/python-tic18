{
 "cells": [
  {
   "cell_type": "markdown",
   "metadata": {},
   "source": [
    "## Manipulação de variáveis de tipo string e explorando os métodos da classe"
   ]
  },
  {
   "cell_type": "code",
   "execution_count": 1,
   "metadata": {},
   "outputs": [
    {
     "name": "stdout",
     "output_type": "stream",
     "text": [
      "Nome: João\n",
      "Sobrenome: Silva\n",
      "Antes na ordem alfabética: João\n",
      "Depois na ordem alfabética: Silva\n",
      "Quantidade de caracteres no nome: 4\n",
      "Quantidade de caracteres no sobrenome: 5\n",
      "É um palíndromo: False\n"
     ]
    }
   ],
   "source": [
    "nome_completo = \"João Silva\"\n",
    "\n",
    "# Separe o nome e o sobrenome usando o método split()\n",
    "nome, sobrenome = nome_completo.split()\n",
    "\n",
    "# Ordene alfabeticamente o nome e o sobrenome\n",
    "ordem_alfabetica = sorted([nome, sobrenome])\n",
    "primeira_variavel_alfabetica = ordem_alfabetica[0]\n",
    "segunda_variavel_alfabetica = ordem_alfabetica[1]\n",
    "\n",
    "# Calcule o tamanho (número de caracteres) do nome e sobrenome\n",
    "tamanho_nome = len(nome)\n",
    "tamanho_sobrenome = len(sobrenome)\n",
    "\n",
    "# Verifique se o nome é um palíndromo\n",
    "nome_eh_palindromo = nome == nome[::-1]\n",
    "\n",
    "# Imprima os resultados\n",
    "print(\"Nome:\", nome)\n",
    "print(\"Sobrenome:\", sobrenome)\n",
    "print(\"Antes na ordem alfabética:\", primeira_variavel_alfabetica)\n",
    "print(\"Depois na ordem alfabética:\", segunda_variavel_alfabetica)\n",
    "print(\"Quantidade de caracteres no nome:\", tamanho_nome)\n",
    "print(\"Quantidade de caracteres no sobrenome:\", tamanho_sobrenome)\n",
    "print(\"É um palíndromo:\", nome_eh_palindromo)\n"
   ]
  }
 ],
 "metadata": {
  "kernelspec": {
   "display_name": "Python 3",
   "language": "python",
   "name": "python3"
  },
  "language_info": {
   "codemirror_mode": {
    "name": "ipython",
    "version": 3
   },
   "file_extension": ".py",
   "mimetype": "text/x-python",
   "name": "python",
   "nbconvert_exporter": "python",
   "pygments_lexer": "ipython3",
   "version": "3.12.0"
  }
 },
 "nbformat": 4,
 "nbformat_minor": 2
}
