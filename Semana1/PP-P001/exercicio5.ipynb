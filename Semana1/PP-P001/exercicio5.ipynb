{
 "cells": [
  {
   "cell_type": "markdown",
   "metadata": {},
   "source": [
    "## Demonstração de Operadores Aritméticos e Compostos em Python:\n"
   ]
  },
  {
   "cell_type": "code",
   "execution_count": 5,
   "metadata": {},
   "outputs": [
    {
     "name": "stdout",
     "output_type": "stream",
     "text": [
      "Soma: 7\n",
      "Subtração: 3\n",
      "Multiplicação: 10\n",
      "Divisão: 2.5\n",
      "Valor de c após adição composta: 5\n",
      "Valor de c após exponenciação composta: 25\n"
     ]
    }
   ],
   "source": [
    "# Operadores Aritméticos\n",
    "a = 5\n",
    "b = 2\n",
    "\n",
    "soma = a + b\n",
    "subtracao = a - b\n",
    "multiplicacao = a * b\n",
    "divisao = a / b\n",
    "\n",
    "print(\"Soma:\", soma)\n",
    "print(\"Subtração:\", subtracao)\n",
    "print(\"Multiplicação:\", multiplicacao)\n",
    "print(\"Divisão:\", divisao)\n",
    "\n",
    "# Operadores Aritméticos Compostos\n",
    "c = 3\n",
    "\n",
    "c += 2  # Equivalente a: c = c + 2\n",
    "print(\"Valor de c após adição composta:\", c)\n",
    "\n",
    "c **= 2  # Equivalente a: c = c ** 2\n",
    "print(\"Valor de c após exponenciação composta:\", c)\n"
   ]
  },
  {
   "cell_type": "markdown",
   "metadata": {},
   "source": [
    "# Maior e Menor Potência de 2 Representada com Variáveis de Ponto Flutuante:"
   ]
  },
  {
   "cell_type": "code",
   "execution_count": 6,
   "metadata": {},
   "outputs": [
    {
     "name": "stdout",
     "output_type": "stream",
     "text": [
      "Maior potência de 2 representada: 179769313486231590772930519078902473361797697894230657273430081157732675805500963132708477322407536021120113879871393357658789768814416622492847430639474124377767893424865485276302219601246094119453082952085005768838150682342462881473913110540827237163350510684586298239947245938479716304835356329624224137216\n",
      "Menor potência de 2 representada: 4.450147717014403e-308\n"
     ]
    }
   ],
   "source": [
    "import sys\n",
    "\n",
    "# Maior potência de 2 representada\n",
    "maior_potencia_2 = sys.float_info.max_exp\n",
    "\n",
    "# Menor potência de 2 representada\n",
    "menor_potencia_2 = sys.float_info.min_exp\n",
    "\n",
    "print(\"Maior potência de 2 representada:\", 2 ** maior_potencia_2)\n",
    "print(\"Menor potência de 2 representada:\", 2 ** menor_potencia_2)\n"
   ]
  },
  {
   "cell_type": "markdown",
   "metadata": {},
   "source": [
    "## Variáveis Numéricas são Imutáveis:"
   ]
  },
  {
   "cell_type": "code",
   "execution_count": 7,
   "metadata": {},
   "outputs": [
    {
     "name": "stdout",
     "output_type": "stream",
     "text": [
      "Valor de x: 20\n",
      "Valor de y: 10\n"
     ]
    }
   ],
   "source": [
    "x = 10\n",
    "y = x  # y recebe o valor de x\n",
    "\n",
    "x = 20  # Alterando o valor de x\n",
    "\n",
    "print(\"Valor de x:\", x)  # Saída: 20\n",
    "print(\"Valor de y:\", y)  # Saída: 10 (y não foi alterado)\n"
   ]
  },
  {
   "cell_type": "markdown",
   "metadata": {},
   "source": [
    "Neste exemplo, a variável x permanece inalterada, e uma nova variável y é criada para armazenar o resultado da operação x + 5.0. Isso ilustra a imutabilidade em variáveis de ponto flutuante, onde as operações não modificam a variável original, criando uma nova variável para armazenar o resultado."
   ]
  },
  {
   "cell_type": "markdown",
   "metadata": {},
   "source": [
    "## Métodos Disponíveis para Variáveis de Ponto Flutuante:"
   ]
  },
  {
   "cell_type": "code",
   "execution_count": 8,
   "metadata": {},
   "outputs": [
    {
     "name": "stdout",
     "output_type": "stream",
     "text": [
      "Métodos disponíveis para variáveis de ponto flutuante:\n",
      "['__abs__', '__add__', '__bool__', '__ceil__', '__class__', '__delattr__', '__dir__', '__divmod__', '__doc__', '__eq__', '__float__', '__floor__', '__floordiv__', '__format__', '__ge__', '__getattribute__', '__getformat__', '__getnewargs__', '__getstate__', '__gt__', '__hash__', '__init__', '__init_subclass__', '__int__', '__le__', '__lt__', '__mod__', '__mul__', '__ne__', '__neg__', '__new__', '__pos__', '__pow__', '__radd__', '__rdivmod__', '__reduce__', '__reduce_ex__', '__repr__', '__rfloordiv__', '__rmod__', '__rmul__', '__round__', '__rpow__', '__rsub__', '__rtruediv__', '__setattr__', '__sizeof__', '__str__', '__sub__', '__subclasshook__', '__truediv__', '__trunc__', 'as_integer_ratio', 'conjugate', 'fromhex', 'hex', 'imag', 'is_integer', 'real']\n"
     ]
    }
   ],
   "source": [
    "# Criar uma variável de ponto flutuante\n",
    "numero_ponto_flutuante = 3.14\n",
    "\n",
    "# Listar métodos disponíveis para a variável de ponto flutuante\n",
    "metodos_disponiveis = dir(numero_ponto_flutuante)\n",
    "\n",
    "# Imprimir a lista de métodos\n",
    "print(\"Métodos disponíveis para variáveis de ponto flutuante:\")\n",
    "\n",
    "print(metodos_disponiveis)\n"
   ]
  }
 ],
 "metadata": {
  "kernelspec": {
   "display_name": "Python 3",
   "language": "python",
   "name": "python3"
  },
  "language_info": {
   "codemirror_mode": {
    "name": "ipython",
    "version": 3
   },
   "file_extension": ".py",
   "mimetype": "text/x-python",
   "name": "python",
   "nbconvert_exporter": "python",
   "pygments_lexer": "ipython3",
   "version": "3.12.0"
  }
 },
 "nbformat": 4,
 "nbformat_minor": 2
}
