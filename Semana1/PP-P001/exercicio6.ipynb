{
 "cells": [
  {
   "cell_type": "markdown",
   "metadata": {},
   "source": [
    "## Manipulando listas - Analisando o que será impresso em cada caso"
   ]
  },
  {
   "cell_type": "code",
   "execution_count": 4,
   "metadata": {},
   "outputs": [
    {
     "name": "stdout",
     "output_type": "stream",
     "text": [
      "[9, 8, 7, 6, 5, 4, 3, 2, 1]\n",
      "[9]\n",
      "[1, 2, 3, 4, 5, 6, 7, 8]\n",
      "[9, 7, 5, 3, 1]\n",
      "[8, 9]\n",
      "[1, 2, 3, 4, 5, 6, 7]\n"
     ]
    }
   ],
   "source": [
    "L = [1, 2, 3, 4, 5, 6, 7, 8, 9]\n",
    "\n",
    "# 1. Inverter a lista\n",
    "print(L[::-1])  # Saída: [9, 8, 7, 6, 5, 4, 3, 2, 1]\n",
    "\n",
    "# 2. Selecionar o último elemento\n",
    "print(L[-1::1])  # Saída: [9]\n",
    "\n",
    "# 3. Selecionar todos os elementos, exceto o último\n",
    "print(L[:-1:])  # Saída: [1, 2, 3, 4, 5, 6, 7, 8]\n",
    "\n",
    "# 4. Inverter a lista e selecionar cada segundo elemento\n",
    "print(L[::-2])  # Saída: [9, 7, 5, 3, 1]\n",
    "\n",
    "# 5. Selecionar os dois últimos elementos\n",
    "print(L[-2::])  # Saída: [8, 9]\n",
    "\n",
    "# 6. Selecionar todos os elementos, exceto os dois últimos\n",
    "print(L[:-2:])  # Saída: [1, 2, 3, 4, 5, 6, 7]\n"
   ]
  },
  {
   "cell_type": "markdown",
   "metadata": {},
   "source": [
    "## Determinação do Signo do Zodíaco Chinês com Base no Ano de Nascimento"
   ]
  },
  {
   "cell_type": "code",
   "execution_count": 5,
   "metadata": {},
   "outputs": [
    {
     "name": "stdout",
     "output_type": "stream",
     "text": [
      "Seu signo do zodíaco chinês é: Macaco\n"
     ]
    }
   ],
   "source": [
    "# Solicitar ao usuário o ano de nascimento\n",
    "ano_nascimento = int(input(\"Digite o ano de nascimento: \"))\n",
    "\n",
    "# Calcular o signo do zodíaco chinês\n",
    "signos_zodiaco_chines = [\"Macaco\", \"Galo\", \"Cão\", \"Porco\", \"Rato\", \"Boi\", \"Tigre\", \"Coelho\", \"Dragão\", \"Serpente\", \"Cavalo\", \"Carneiro\"]\n",
    "signo = signos_zodiaco_chines[ano_nascimento % 12]\n",
    "\n",
    "# Exibir o resultado\n",
    "print(f\"Seu signo do zodíaco chinês é: {signo}\")\n"
   ]
  }
 ],
 "metadata": {
  "kernelspec": {
   "display_name": "Python 3",
   "language": "python",
   "name": "python3"
  },
  "language_info": {
   "codemirror_mode": {
    "name": "ipython",
    "version": 3
   },
   "file_extension": ".py",
   "mimetype": "text/x-python",
   "name": "python",
   "nbconvert_exporter": "python",
   "pygments_lexer": "ipython3",
   "version": "3.12.0"
  }
 },
 "nbformat": 4,
 "nbformat_minor": 2
}
