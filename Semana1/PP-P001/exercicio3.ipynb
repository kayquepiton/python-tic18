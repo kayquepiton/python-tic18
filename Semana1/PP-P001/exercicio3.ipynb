{
 "cells": [
  {
   "cell_type": "markdown",
   "metadata": {},
   "source": [
    "## 1. Imprimir caracteres numéricos e seus códigos numéricos:"
   ]
  },
  {
   "cell_type": "code",
   "execution_count": 7,
   "metadata": {},
   "outputs": [
    {
     "name": "stdout",
     "output_type": "stream",
     "text": [
      "'0' - 48\n",
      "'1' - 49\n",
      "'2' - 50\n",
      "'3' - 51\n",
      "'4' - 52\n",
      "'5' - 53\n",
      "'6' - 54\n",
      "'7' - 55\n",
      "'8' - 56\n",
      "'9' - 57\n"
     ]
    }
   ],
   "source": [
    "def imprimir_caracteres_numericos():\n",
    "    for i in range(10):\n",
    "        caractere = str(i)\n",
    "        codigo_decimal = ord(caractere)\n",
    "        \n",
    "        print(f\"'{caractere}' - {codigo_decimal}\")\n",
    "\n",
    "# Chamar a função\n",
    "imprimir_caracteres_numericos()\n"
   ]
  },
  {
   "cell_type": "markdown",
   "metadata": {},
   "source": [
    "## 2. Adicionar códigos em octal e hexadecimal:"
   ]
  },
  {
   "cell_type": "code",
   "execution_count": 8,
   "metadata": {},
   "outputs": [
    {
     "name": "stdout",
     "output_type": "stream",
     "text": [
      "'0' - 48 - 0o60 - 0x30\n",
      "'1' - 49 - 0o61 - 0x31\n",
      "'2' - 50 - 0o62 - 0x32\n",
      "'3' - 51 - 0o63 - 0x33\n",
      "'4' - 52 - 0o64 - 0x34\n",
      "'5' - 53 - 0o65 - 0x35\n",
      "'6' - 54 - 0o66 - 0x36\n",
      "'7' - 55 - 0o67 - 0x37\n",
      "'8' - 56 - 0o70 - 0x38\n",
      "'9' - 57 - 0o71 - 0x39\n"
     ]
    }
   ],
   "source": [
    "def imprimir_caracteres_numericos_octal_hex():\n",
    "    for i in range(10):\n",
    "        caractere = str(i)\n",
    "        codigo_decimal = ord(caractere)\n",
    "        codigo_octal = oct(codigo_decimal)\n",
    "        codigo_hexadecimal = hex(codigo_decimal)\n",
    "        \n",
    "        print(f\"'{caractere}' - {codigo_decimal} - {codigo_octal} - {codigo_hexadecimal}\")\n",
    "\n",
    "# Chamar a função\n",
    "imprimir_caracteres_numericos_octal_hex()\n"
   ]
  },
  {
   "cell_type": "markdown",
   "metadata": {},
   "source": [
    "## 3. Ler um caractere e imprimir suas informações:"
   ]
  },
  {
   "cell_type": "code",
   "execution_count": 9,
   "metadata": {},
   "outputs": [
    {
     "name": "stdout",
     "output_type": "stream",
     "text": [
      "'k' - 107 - 0o153 - 0x6b\n"
     ]
    }
   ],
   "source": [
    "def imprimir_info_caractere():\n",
    "    # Ler um caractere do usuário\n",
    "    caractere = input(\"Digite um caractere: \")\n",
    "\n",
    "    # Verificar se foi digitado apenas um caractere\n",
    "    if len(caractere) == 1:\n",
    "        codigo_decimal = ord(caractere)\n",
    "        codigo_octal = oct(codigo_decimal)\n",
    "        codigo_hexadecimal = hex(codigo_decimal)\n",
    "\n",
    "        # Imprimir as informações\n",
    "        print(f\"'{caractere}' - {codigo_decimal} - {codigo_octal} - {codigo_hexadecimal}\")\n",
    "    else:\n",
    "        print(\"Por favor, digite apenas um caractere.\")\n",
    "\n",
    "# Chamar a função\n",
    "imprimir_info_caractere()\n"
   ]
  },
  {
   "cell_type": "markdown",
   "metadata": {},
   "source": [
    "## 4. Adicionar exemplo de caracteres especiais:"
   ]
  },
  {
   "cell_type": "code",
   "execution_count": 10,
   "metadata": {},
   "outputs": [
    {
     "name": "stdout",
     "output_type": "stream",
     "text": [
      "'j' - 106 - 0o152 - 0x6a\n",
      "'ç' - 231 - 0o347 - 0xe7\n",
      "'ã' - 227 - 0o343 - 0xe3\n"
     ]
    }
   ],
   "source": [
    "def imprimir_info_caractere():\n",
    "    # Ler um caractere do usuário\n",
    "    caractere = input(\"Digite um caractere: \")\n",
    "\n",
    "    # Verificar se foi digitado apenas um caractere\n",
    "    if len(caractere) == 1:\n",
    "        codigo_decimal = ord(caractere)\n",
    "        codigo_octal = oct(codigo_decimal)\n",
    "        codigo_hexadecimal = hex(codigo_decimal)\n",
    "\n",
    "        # Imprimir as informações\n",
    "        print(f\"'{caractere}' - {codigo_decimal} - {codigo_octal} - {codigo_hexadecimal}\")\n",
    "    else:\n",
    "        print(\"Por favor, digite apenas um caractere.\")\n",
    "\n",
    "# Chamar a função\n",
    "imprimir_info_caractere()\n",
    "\n",
    "# Exemplo com caracteres especiais\n",
    "caractere_especial_1 = 'ç'\n",
    "caractere_especial_2 = 'ã'\n",
    "codigo_especial_1_decimal = ord(caractere_especial_1)\n",
    "codigo_especial_2_decimal = ord(caractere_especial_2)\n",
    "codigo_especial_1_octal = oct(codigo_especial_1_decimal)\n",
    "codigo_especial_2_octal = oct(codigo_especial_2_decimal)\n",
    "codigo_especial_1_hexadecimal = hex(codigo_especial_1_decimal)\n",
    "codigo_especial_2_hexadecimal = hex(codigo_especial_2_decimal)\n",
    "\n",
    "print(f\"'{caractere_especial_1}' - {codigo_especial_1_decimal} - {codigo_especial_1_octal} - {codigo_especial_1_hexadecimal}\")\n",
    "print(f\"'{caractere_especial_2}' - {codigo_especial_2_decimal} - {codigo_especial_2_octal} - {codigo_especial_2_hexadecimal}\")\n"
   ]
  }
 ],
 "metadata": {
  "kernelspec": {
   "display_name": "Python 3",
   "language": "python",
   "name": "python3"
  },
  "language_info": {
   "codemirror_mode": {
    "name": "ipython",
    "version": 3
   },
   "file_extension": ".py",
   "mimetype": "text/x-python",
   "name": "python",
   "nbconvert_exporter": "python",
   "pygments_lexer": "ipython3",
   "version": "3.12.0"
  }
 },
 "nbformat": 4,
 "nbformat_minor": 2
}
